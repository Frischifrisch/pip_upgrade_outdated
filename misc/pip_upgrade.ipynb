{
 "cells": [
  {
   "cell_type": "code",
   "execution_count": 41,
   "metadata": {},
   "outputs": [],
   "source": [
    "pkgs_json = !! pip3 list --format json"
   ]
  },
  {
   "cell_type": "code",
   "execution_count": 6,
   "metadata": {},
   "outputs": [],
   "source": [
    "import json"
   ]
  },
  {
   "cell_type": "code",
   "execution_count": 42,
   "metadata": {},
   "outputs": [],
   "source": [
    "pkgs=json.loads(pkgs_json.s)"
   ]
  },
  {
   "cell_type": "code",
   "execution_count": 46,
   "metadata": {},
   "outputs": [
    {
     "data": {
      "text/plain": [
       "'absl-py alabaster alembic altgraph appdirs appnope asn1crypto astor astropy attrs Babel backports.shutil-get-terminal-size bleach Bottleneck camb certifi cffi chardet cheroot CherryPy CommonMark coverage cryptography cycler Cython daft DateTime decorator docutils entrypoints enum34 extinction funcsigs future gast GetDist gnureadline grpcio gwpy h5py healpy holoviews html5lib idna imagesize ipykernel ipyparallel ipython ipython-genutils ipywidgets jaraco.classes jaraco.compat jaraco.timing jedi Jinja2 joblib jsonfeedvalidator jsonschema jupyter jupyter-client jupyter-console jupyter-contrib-core jupyter-contrib-nbextensions jupyter-core jupyter-highlight-selected-word jupyter-latex-envs jupyter-nbextensions-configurator jupyterhub jupyterlab jupyterlab-launcher kiwisolver ligotimegps llvmlite lscsoft-glue lxml macholib Mako mapext Markdown MarkupSafe matplotlib mistune mock modulegraph more-itertools mpi4py nbconvert nbformat nbsphinx nose notebook numba numexpr numpy numpydoc olefile ordereddict packaging pamela pandas pandocfilters param parso path.py patsy pbr pep8 pexpect pickleshare Pillow pip pkginfo plotly pluggy portend prompt-toolkit protobuf psutil ptyprocess pushoverAHJ py py2app pyasn1 pycparser pydot Pygments pymc3 pymultinest pyobjc-core pyobjc-framework-Accounts pyobjc-framework-AddressBook pyobjc-framework-AppleScriptKit pyobjc-framework-AppleScriptObjC pyobjc-framework-Automator pyobjc-framework-CFNetwork pyobjc-framework-Cocoa pyobjc-framework-Collaboration pyobjc-framework-CoreData pyobjc-framework-CoreLocation pyobjc-framework-CoreText pyobjc-framework-DictionaryServices pyobjc-framework-EventKit pyobjc-framework-ExceptionHandling pyobjc-framework-FSEvents pyobjc-framework-InputMethodKit pyobjc-framework-InstallerPlugins pyobjc-framework-InstantMessage pyobjc-framework-LatentSemanticMapping pyobjc-framework-LaunchServices pyobjc-framework-Message pyobjc-framework-OpenDirectory pyobjc-framework-PreferencePanes pyobjc-framework-PubSub pyobjc-framework-QTKit pyobjc-framework-Quartz pyobjc-framework-ScreenSaver pyobjc-framework-ScriptingBridge pyobjc-framework-SearchKit pyobjc-framework-ServiceManagement pyobjc-framework-Social pyobjc-framework-SyncServices pyobjc-framework-SystemConfiguration pyobjc-framework-WebKit pyOpenSSL pyparsing pystan pytest python-dateutil python-editor python-oauth2 pytz PyYAML pyzmq qtconsole realization recommonmark requests requests-toolbelt scandir scikit-learn scipy scons Send2Trash setuptools simplegeneric simplepam six sncosmo snowballstemmer Sphinx sphinx-rtd-theme sphinxcontrib-websupport SQLAlchemy statsd tempora tensorboard tensorflow tensorflow-tensorboard termcolor terminado testpath Theano tornado tqdm traitlets twine typing urllib3 virtualenv wcwidth webencodings Werkzeug wheel widgetsnbextension zope.interface'"
      ]
     },
     "execution_count": 46,
     "metadata": {},
     "output_type": "execute_result"
    }
   ],
   "source": [
    "\" \".join([p['name'] for p in pkgs])"
   ]
  },
  {
   "cell_type": "code",
   "execution_count": null,
   "metadata": {},
   "outputs": [],
   "source": []
  }
 ],
 "metadata": {
  "kernelspec": {
   "display_name": "Python 3",
   "language": "python",
   "name": "python3"
  },
  "language_info": {
   "codemirror_mode": {
    "name": "ipython",
    "version": 3
   },
   "file_extension": ".py",
   "mimetype": "text/x-python",
   "name": "python",
   "nbconvert_exporter": "python",
   "pygments_lexer": "ipython3",
   "version": "3.6.4"
  },
  "latex_envs": {
   "LaTeX_envs_menu_present": true,
   "autoclose": false,
   "autocomplete": true,
   "bibliofile": "biblio.bib",
   "cite_by": "apalike",
   "current_citInitial": 1,
   "eqLabelWithNumbers": true,
   "eqNumInitial": 1,
   "hotkeys": {
    "equation": ""
   },
   "labels_anchors": false,
   "latex_user_defs": false,
   "report_style_numbering": false,
   "user_envs_cfg": false
  }
 },
 "nbformat": 4,
 "nbformat_minor": 2
}
